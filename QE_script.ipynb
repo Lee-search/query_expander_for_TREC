{
 "cells": [
  {
   "cell_type": "markdown",
   "source": [
    "# TREC-2022\n",
    "## Query Expander by BERT\n",
    "### jbnu2 질의확장에서 사용하기 위한 소스코드\n",
    "### https://colab.research.google.com/github/fastforwardlabs/ff14_blog/blob/master/_notebooks/2020-07-22-Improving_the_Retriever_on_Natural_Questions.ipynb#scrollTo=1xwiI8KJ7D1V"
   ],
   "metadata": {
    "collapsed": false
   }
  },
  {
   "cell_type": "code",
   "execution_count": 1,
   "outputs": [],
   "source": [
    "import ast\n",
    "import spacy\n",
    "import pandas as pd\n",
    "import gensim.downloader as api\n",
    "\n",
    "from tqdm import tqdm\n",
    "from transformers import pipeline, AutoTokenizer\n",
    "import warnings\n",
    "\n",
    "warnings.simplefilter(action='ignore', category=FutureWarning)"
   ],
   "metadata": {
    "collapsed": false
   }
  },
  {
   "cell_type": "code",
   "execution_count": 2,
   "outputs": [
    {
     "data": {
      "text/plain": "Downloading:   0%|          | 0.00/230 [00:00<?, ?B/s]",
      "application/vnd.jupyter.widget-view+json": {
       "version_major": 2,
       "version_minor": 0,
       "model_id": "813b348751be4fccab2f095907a4aaca"
      }
     },
     "metadata": {},
     "output_type": "display_data"
    }
   ],
   "source": [
    "# initialize models\n",
    "nlp = spacy.load(\"en_core_web_sm\")\n",
    "word_vectors = api.load(\"glove-wiki-gigaword-50\")\n",
    "unmasker = pipeline('fill-mask', model=\"bert-base-uncased\", tokenizer=\"bert-base-uncased\")\n",
    "tokenizer = AutoTokenizer.from_pretrained(\"bert-base-uncased\", use_fast=True)"
   ],
   "metadata": {
    "collapsed": false
   }
  },
  {
   "cell_type": "markdown",
   "source": [
    "***\n",
    "## 1. Import Datasets"
   ],
   "metadata": {
    "collapsed": false
   }
  },
  {
   "cell_type": "code",
   "execution_count": 3,
   "outputs": [
    {
     "name": "stdout",
     "output_type": "stream",
     "text": [
      "Counts: 50, Topic_1: ['some pubic hair', 'poorly developed secondary sexual characteristics', 'coffee smell', 'low levels of GnRH']\n",
      "Counts: 50, Topic_1: ['satisfaction', 'visual acuity', 'testosterone', 'GnRH']\n"
     ]
    }
   ],
   "source": [
    "bioTerms = pd.read_csv('datasets/bioTerms-2022.csv')\n",
    "clinicalTerms = pd.read_csv('datasets/clinicalTerms-2022.csv')\n",
    "\n",
    "clinical_terms = []\n",
    "bio_terms = []\n",
    "\n",
    "for terms in clinicalTerms['Problem']:\n",
    "    clinical_terms.append(ast.literal_eval(terms))\n",
    "\n",
    "for terms in bioTerms['Bio']:\n",
    "    bio_terms.append(ast.literal_eval(terms))\n",
    "\n",
    "print(f'Counts: {len(clinical_terms)}, Topic_1: {clinical_terms[0]}')\n",
    "print(f'Counts: {len(bio_terms)}, Topic_1: {bio_terms[0]}')"
   ],
   "metadata": {
    "collapsed": false
   }
  },
  {
   "cell_type": "markdown",
   "source": [
    "***\n",
    "## 2. Run Expanding Module"
   ],
   "metadata": {
    "collapsed": false
   }
  },
  {
   "cell_type": "code",
   "execution_count": 4,
   "outputs": [],
   "source": [
    "from qe_methods import QueryExpander\n",
    "\n",
    "def get_expanded_query(text):\n",
    "    qe_static = QueryExpander(text, entity_args, synonym_args)\n",
    "    #qe_static.explain_expansion(entities=True)\n",
    "\n",
    "    return qe_static.expanded_question"
   ],
   "metadata": {
    "collapsed": false
   }
  },
  {
   "cell_type": "code",
   "execution_count": 5,
   "outputs": [
    {
     "name": "stderr",
     "output_type": "stream",
     "text": [
      "100%|██████████| 50/50 [01:02<00:00,  1.26s/it]\n"
     ]
    }
   ],
   "source": [
    "#Static Embedding Similarity\n",
    "entity_args = { 'spacy_model': nlp }\n",
    "synonym_args = { 'gensim_model': word_vectors, 'n_syns': 2 }\n",
    "\n",
    "ex_clinicalTerms = []\n",
    "ex_bioTerms = []\n",
    "ex_mixedTerms = []\n",
    "\n",
    "for i in tqdm(range(len(bio_terms))):\n",
    "    ct, bt = ' '.join(clinical_terms[i]), ' '.join(bio_terms[i])\n",
    "    ex_clinicalTerms.append(get_expanded_query(ct))\n",
    "    ex_bioTerms.append(get_expanded_query(bt))\n",
    "\n",
    "    ex_mixedTerms.append(get_expanded_query(ct + bt))"
   ],
   "metadata": {
    "collapsed": false
   }
  },
  {
   "cell_type": "code",
   "execution_count": 7,
   "outputs": [
    {
     "name": "stdout",
     "output_type": "stream",
     "text": [
      "CT for topic_1:\n",
      " ['some pubic hair', 'poorly developed secondary sexual characteristics', 'coffee smell', 'low levels of GnRH']\n",
      "Expanded CT for topic_1:\n",
      " some pubic hair poorly developed secondary sexual characteristics coffee smell low levels of GnRH blond traits skin less odor sex characteristic higher level regrowth sexuality wine heavily symphysis fairly primarily drink smells systems schools primary\n",
      "BT for topic_1:\n",
      " ['satisfaction', 'visual acuity', 'testosterone', 'GnRH']\n",
      "Expanded BT for topic_1:\n",
      " satisfaction visual acuity testosterone GnRH impairments expressiveness unique expressing confidence imagery\n"
     ]
    }
   ],
   "source": [
    "print(\"CT for topic_1:\\n\", clinical_terms[0])\n",
    "print(\"Expanded CT for topic_1:\\n\", ex_clinicalTerms[0])\n",
    "\n",
    "print(\"BT for topic_1:\\n\", bio_terms[0])\n",
    "print(\"Expanded BT for topic_1:\\n\", ex_bioTerms[0])"
   ],
   "metadata": {
    "collapsed": false
   }
  },
  {
   "cell_type": "markdown",
   "source": [
    "***\n",
    "## 3. Save expanded terms by CSV"
   ],
   "metadata": {
    "collapsed": false
   }
  },
  {
   "cell_type": "code",
   "execution_count": 9,
   "outputs": [],
   "source": [
    "o_path = 'outputs/'\n",
    "\n",
    "df_output = pd.DataFrame({'Topic': range(1, 51), 'Terms': ex_clinicalTerms})\n",
    "df_output.to_csv(o_path + 'expanded_CT-2022.csv', header=True, index=False)\n",
    "\n",
    "df_output = pd.DataFrame({'Topic': range(1, 51), 'Terms': ex_bioTerms})\n",
    "df_output.to_csv(o_path + 'expanded_BT-2022.csv', header=True, index=False)\n",
    "\n",
    "df_output = pd.DataFrame({'Topic': range(1, 51), 'Terms': ex_mixedTerms})\n",
    "df_output.to_csv(o_path + 'expandedTerms-2022.csv', header=True, index=False)"
   ],
   "metadata": {
    "collapsed": false
   }
  }
 ],
 "metadata": {
  "kernelspec": {
   "display_name": "Python 3",
   "language": "python",
   "name": "python3"
  },
  "language_info": {
   "codemirror_mode": {
    "name": "ipython",
    "version": 2
   },
   "file_extension": ".py",
   "mimetype": "text/x-python",
   "name": "python",
   "nbconvert_exporter": "python",
   "pygments_lexer": "ipython2",
   "version": "2.7.6"
  }
 },
 "nbformat": 4,
 "nbformat_minor": 0
}
